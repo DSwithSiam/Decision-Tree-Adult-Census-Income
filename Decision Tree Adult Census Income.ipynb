{
 "cells": [
  {
   "cell_type": "code",
   "execution_count": 1,
   "id": "ff02c067",
   "metadata": {},
   "outputs": [],
   "source": [
    "import pandas as pd \n",
    "import seaborn as sns \n",
    "import matplotlib.pyplot as plt\n",
    "\n",
    "df = pd.read_csv(\"adult.csv\")"
   ]
  },
  {
   "cell_type": "code",
   "execution_count": null,
   "id": "65e24a76",
   "metadata": {},
   "outputs": [],
   "source": [
    "df.head(10)"
   ]
  },
  {
   "cell_type": "code",
   "execution_count": null,
   "id": "5e8c0556",
   "metadata": {},
   "outputs": [],
   "source": [
    "df.info()"
   ]
  },
  {
   "cell_type": "code",
   "execution_count": null,
   "id": "633cafb2",
   "metadata": {},
   "outputs": [],
   "source": [
    "df.isnull().sum()"
   ]
  },
  {
   "cell_type": "code",
   "execution_count": null,
   "id": "b3179096",
   "metadata": {},
   "outputs": [],
   "source": [
    "xdata=df.drop(\"income\", axis = 1)\n",
    "ydata=df[\"income\"]"
   ]
  },
  {
   "cell_type": "code",
   "execution_count": null,
   "id": "4d468e9b",
   "metadata": {},
   "outputs": [],
   "source": [
    "ydata.head()"
   ]
  },
  {
   "cell_type": "code",
   "execution_count": null,
   "id": "2e1960f6",
   "metadata": {},
   "outputs": [],
   "source": []
  },
  {
   "cell_type": "code",
   "execution_count": null,
   "id": "0293794d",
   "metadata": {},
   "outputs": [],
   "source": [
    "from sklearn.preprocessing import LabelEncoder\n",
    "lab = LabelEncoder()"
   ]
  },
  {
   "cell_type": "code",
   "execution_count": null,
   "id": "4177943e",
   "metadata": {},
   "outputs": [],
   "source": [
    "for x in xdata.columns:\n",
    "    if xdata[x].dtype == 'object':\n",
    "        lab.fit(list(xdata[x].values))\n",
    "        xdata[x] = lab.transform(list(xdata[x].values))"
   ]
  },
  {
   "cell_type": "code",
   "execution_count": null,
   "id": "2347dc51",
   "metadata": {},
   "outputs": [],
   "source": [
    "xdata.head()"
   ]
  },
  {
   "cell_type": "code",
   "execution_count": null,
   "id": "8fba7795",
   "metadata": {},
   "outputs": [],
   "source": [
    "ydata.head()"
   ]
  },
  {
   "cell_type": "code",
   "execution_count": null,
   "id": "a0586110",
   "metadata": {},
   "outputs": [],
   "source": [
    "from sklearn.tree import DecisionTreeClassifier\n",
    "dt = DecisionTreeClassifier()"
   ]
  },
  {
   "cell_type": "code",
   "execution_count": null,
   "id": "6c29b78e",
   "metadata": {},
   "outputs": [],
   "source": [
    "dt.fit(xdata,ydata)"
   ]
  },
  {
   "cell_type": "code",
   "execution_count": null,
   "id": "b8249c80",
   "metadata": {},
   "outputs": [],
   "source": [
    "dt.predict([[90,0,77053,11,9,6,0,1,4,0,0,4356,40,39]])"
   ]
  },
  {
   "cell_type": "code",
   "execution_count": null,
   "id": "abc8255f",
   "metadata": {},
   "outputs": [],
   "source": []
  },
  {
   "cell_type": "code",
   "execution_count": null,
   "id": "8cd5345c",
   "metadata": {},
   "outputs": [],
   "source": []
  }
 ],
 "metadata": {
  "kernelspec": {
   "display_name": "Python 3 (ipykernel)",
   "language": "python",
   "name": "python3"
  },
  "language_info": {
   "codemirror_mode": {
    "name": "ipython",
    "version": 3
   },
   "file_extension": ".py",
   "mimetype": "text/x-python",
   "name": "python",
   "nbconvert_exporter": "python",
   "pygments_lexer": "ipython3",
   "version": "3.9.12"
  }
 },
 "nbformat": 4,
 "nbformat_minor": 5
}
